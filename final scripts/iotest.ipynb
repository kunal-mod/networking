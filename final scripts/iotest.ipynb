{
 "cells": [
  {
   "cell_type": "code",
   "execution_count": null,
   "metadata": {},
   "outputs": [],
   "source": [
    "import socket"
   ]
  },
  {
   "cell_type": "code",
   "execution_count": null,
   "metadata": {},
   "outputs": [],
   "source": [
    "s = socket.socket(socket.AF_INET, socket.SOCK_STREAM)\n",
    "server_address = ('10.166.76.39', 8500)\n",
    "s.connect(server_address)"
   ]
  },
  {
   "cell_type": "code",
   "execution_count": null,
   "metadata": {},
   "outputs": [],
   "source": [
    "def printHex(data):\n",
    "    print(' '.join('{:02x}'.format(x) for x in data))\n",
    "\n",
    "def querySuccess():\n",
    "    command = bytes.fromhex('00 05 f0 15 e0')\n",
    "    s.send(command)\n",
    "    # response 00 08 00 00 00 00 00 08\n",
    "    data = s.recv(1024)\n",
    "    printHex(data)"
   ]
  },
  {
   "cell_type": "code",
   "execution_count": null,
   "metadata": {},
   "outputs": [],
   "source": [
    "# to initiate connection\n",
    "command = bytes.fromhex('00 04 fd f9')\n",
    "s.send(command)\n",
    "data = s.recv(1024)                         # response: 00 04 00 00\n",
    "printHex(data)"
   ]
  },
  {
   "cell_type": "code",
   "execution_count": null,
   "metadata": {},
   "outputs": [],
   "source": [
    "# to query IN_1 with nominal val LOW\n",
    "command = bytes.fromhex('00 08 41 60 00 00 01 28')\n",
    "s.send(command)\n",
    "data = s.recv(1024)\n",
    "printHex(data)\n",
    "\n",
    "command = bytes.fromhex('00 05 f0 15 e0')\n",
    "s.send(command)\n",
    "data = s.recv(1024)                         # response 00 08 00 00 00 00 00 08\n",
    "printHex(data)"
   ]
  },
  {
   "cell_type": "code",
   "execution_count": null,
   "metadata": {},
   "outputs": [],
   "source": [
    "# to query IN_1 with nominal val High\n",
    "command = bytes.fromhex('00 08 41 60 00 01 01 29')\n",
    "s.send(command)\n",
    "data = s.recv(1024)\n",
    "printHex(data)\n",
    "\n",
    "command = bytes.fromhex('00 05 f0 15 e0')\n",
    "s.send(command)\n",
    "data = s.recv(1024)                         # response 00 08 00 00 00 00 00 08\n",
    "printHex(data)"
   ]
  },
  {
   "cell_type": "code",
   "execution_count": null,
   "metadata": {},
   "outputs": [],
   "source": [
    "# to set output2 to High\n",
    "\n",
    "command = bytes.fromhex('00 08 41 10 01 01 01 58')\n",
    "s.send(command)\n",
    "data = s.recv(1024)\n",
    "printHex(data)\n",
    "\n",
    "command = bytes.fromhex('00 05 f0 15 e0')\n",
    "s.send(command)\n",
    "data = s.recv(1024)                         # response 00 08 00 00 00 00 00 08\n",
    "printHex(data)"
   ]
  },
  {
   "cell_type": "code",
   "execution_count": null,
   "metadata": {},
   "outputs": [],
   "source": [
    "#close connection\n",
    "s.close()"
   ]
  }
 ],
 "metadata": {
  "language_info": {
   "name": "python"
  },
  "orig_nbformat": 4
 },
 "nbformat": 4,
 "nbformat_minor": 2
}
